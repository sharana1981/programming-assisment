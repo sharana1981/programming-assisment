{
 "cells": [
  {
   "cell_type": "markdown",
   "id": "2dd65839",
   "metadata": {},
   "source": [
    "# programming assignment 1\n"
   ]
  },
  {
   "cell_type": "raw",
   "id": "8554d590",
   "metadata": {},
   "source": [
    "1)Write a Python program to print \"Hello python\"?\n"
   ]
  },
  {
   "cell_type": "code",
   "execution_count": null,
   "id": "67bb2a75",
   "metadata": {},
   "outputs": [],
   "source": [
    "print(\"Hello Python\")"
   ]
  },
  {
   "cell_type": "raw",
   "id": "b405c757",
   "metadata": {},
   "source": [
    "2)Write a Python program to do arithmetical operations addition and division.?"
   ]
  },
  {
   "cell_type": "code",
   "execution_count": 5,
   "id": "85ddddba",
   "metadata": {},
   "outputs": [
    {
     "name": "stdout",
     "output_type": "stream",
     "text": [
      "enter the number4\n",
      "enter the number4\n",
      "8\n",
      "enter the dividend4\n",
      "enter the divisor4\n",
      "1.0\n"
     ]
    }
   ],
   "source": [
    "a=int(input(\"enter the number\"))\n",
    "b=int(input(\"enter the number\"))\n",
    "def add(a,b):\n",
    "    return a+b\n",
    "print(add(a,b))\n",
    "\n",
    "c=int(input(\"enter the dividend\"))\n",
    "d=int(input(\"enter the divisor\"))\n",
    "def div(c,d):\n",
    "    return a/b\n",
    "print(div(c,d))"
   ]
  },
  {
   "cell_type": "raw",
   "id": "089ceda4",
   "metadata": {},
   "source": [
    "3)Write a Python program to find the area of a triangle?"
   ]
  },
  {
   "cell_type": "code",
   "execution_count": 7,
   "id": "a0d939eb",
   "metadata": {},
   "outputs": [
    {
     "name": "stdout",
     "output_type": "stream",
     "text": [
      "enter the height of a triangle4.5\n",
      "enter the base of an triangle5\n",
      "11.25\n"
     ]
    }
   ],
   "source": [
    "h=float(input(\"enter the height of a triangle\"))\n",
    "b=float(input(\"enter the base of an triangle\"))\n",
    "def area():\n",
    "        t=b*h\n",
    "        return t/2\n",
    "print(area())"
   ]
  },
  {
   "cell_type": "raw",
   "id": "d20b9d41",
   "metadata": {},
   "source": [
    "4)Write a Python program to swap two variables?"
   ]
  },
  {
   "cell_type": "code",
   "execution_count": 10,
   "id": "f5766132",
   "metadata": {},
   "outputs": [
    {
     "name": "stdout",
     "output_type": "stream",
     "text": [
      "enter the number7\n",
      "enter the number8\n",
      "numbers before swap 7.0 8.0\n",
      "numbers after swap 8.0 7.0\n"
     ]
    }
   ],
   "source": [
    "a=float(input(\"enter the number\"))\n",
    "b=float(input(\"enter the number\"))\n",
    "print(\"numbers before swap\",a,b)\n",
    "a,b=b,a\n",
    "print(\"numbers after swap\",a,b)"
   ]
  },
  {
   "cell_type": "raw",
   "id": "33332fac",
   "metadata": {},
   "source": [
    "5)Write a Python program to generate a random number?"
   ]
  },
  {
   "cell_type": "code",
   "execution_count": 20,
   "id": "2e46a83e",
   "metadata": {},
   "outputs": [
    {
     "name": "stdout",
     "output_type": "stream",
     "text": [
      "1\n"
     ]
    }
   ],
   "source": [
    "import random\n",
    "print(random.randint(0,100))"
   ]
  }
 ],
 "metadata": {
  "kernelspec": {
   "display_name": "Python 3 (ipykernel)",
   "language": "python",
   "name": "python3"
  },
  "language_info": {
   "codemirror_mode": {
    "name": "ipython",
    "version": 3
   },
   "file_extension": ".py",
   "mimetype": "text/x-python",
   "name": "python",
   "nbconvert_exporter": "python",
   "pygments_lexer": "ipython3",
   "version": "3.9.12"
  }
 },
 "nbformat": 4,
 "nbformat_minor": 5
}
